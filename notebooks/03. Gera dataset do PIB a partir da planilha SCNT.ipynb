{
 "cells": [
  {
   "cell_type": "code",
   "execution_count": 1,
   "metadata": {},
   "outputs": [],
   "source": [
    "import pandas as pd\n",
    "import os, re\n",
    "import matplotlib.pyplot as plt"
   ]
  },
  {
   "cell_type": "code",
   "execution_count": 2,
   "metadata": {},
   "outputs": [],
   "source": [
    "#Define algumas variáveis\n",
    "\n",
    "pasta_datasets = '../datasets/'\n",
    "pasta_planilha = '../planilhas/'\n",
    "planilha = 'Tab_Compl_CNT_4T20.xls'"
   ]
  },
  {
   "cell_type": "code",
   "execution_count": 3,
   "metadata": {},
   "outputs": [
    {
     "name": "stdout",
     "output_type": "stream",
     "text": [
      "\"Pasta ../datasets/ já existe\n"
     ]
    }
   ],
   "source": [
    "try:\n",
    "    os.mkdir(pasta_datasets)\n",
    "    print(f'\"Pasta {pasta_datasets} criada') \n",
    "except FileExistsError:\n",
    "    print(f'\"Pasta {pasta_datasets} já existe') "
   ]
  },
  {
   "cell_type": "code",
   "execution_count": 4,
   "metadata": {},
   "outputs": [
    {
     "data": {
      "text/html": [
       "<div>\n",
       "<style scoped>\n",
       "    .dataframe tbody tr th:only-of-type {\n",
       "        vertical-align: middle;\n",
       "    }\n",
       "\n",
       "    .dataframe tbody tr th {\n",
       "        vertical-align: top;\n",
       "    }\n",
       "\n",
       "    .dataframe thead th {\n",
       "        text-align: right;\n",
       "    }\n",
       "</style>\n",
       "<table border=\"1\" class=\"dataframe\">\n",
       "  <thead>\n",
       "    <tr style=\"text-align: right;\">\n",
       "      <th></th>\n",
       "      <th>periodo</th>\n",
       "      <th>PIB</th>\n",
       "    </tr>\n",
       "  </thead>\n",
       "  <tbody>\n",
       "    <tr>\n",
       "      <th>0</th>\n",
       "      <td>1995</td>\n",
       "      <td>7.059916e+05</td>\n",
       "    </tr>\n",
       "    <tr>\n",
       "      <th>1</th>\n",
       "      <td>1996.I</td>\n",
       "      <td>1.893233e+05</td>\n",
       "    </tr>\n",
       "    <tr>\n",
       "      <th>2</th>\n",
       "      <td>1996.II</td>\n",
       "      <td>2.046107e+05</td>\n",
       "    </tr>\n",
       "    <tr>\n",
       "      <th>3</th>\n",
       "      <td>1996.III</td>\n",
       "      <td>2.215132e+05</td>\n",
       "    </tr>\n",
       "    <tr>\n",
       "      <th>4</th>\n",
       "      <td>1996.IV</td>\n",
       "      <td>2.393163e+05</td>\n",
       "    </tr>\n",
       "    <tr>\n",
       "      <th>...</th>\n",
       "      <td>...</td>\n",
       "      <td>...</td>\n",
       "    </tr>\n",
       "    <tr>\n",
       "      <th>121</th>\n",
       "      <td>2020.I</td>\n",
       "      <td>1.843863e+06</td>\n",
       "    </tr>\n",
       "    <tr>\n",
       "      <th>122</th>\n",
       "      <td>2020.II</td>\n",
       "      <td>1.708760e+06</td>\n",
       "    </tr>\n",
       "    <tr>\n",
       "      <th>123</th>\n",
       "      <td>2020.III</td>\n",
       "      <td>1.891735e+06</td>\n",
       "    </tr>\n",
       "    <tr>\n",
       "      <th>124</th>\n",
       "      <td>2020.IV</td>\n",
       "      <td>2.003500e+06</td>\n",
       "    </tr>\n",
       "    <tr>\n",
       "      <th>125</th>\n",
       "      <td>2020</td>\n",
       "      <td>7.447858e+06</td>\n",
       "    </tr>\n",
       "  </tbody>\n",
       "</table>\n",
       "<p>126 rows × 2 columns</p>\n",
       "</div>"
      ],
      "text/plain": [
       "      periodo           PIB\n",
       "0        1995  7.059916e+05\n",
       "1      1996.I  1.893233e+05\n",
       "2     1996.II  2.046107e+05\n",
       "3    1996.III  2.215132e+05\n",
       "4     1996.IV  2.393163e+05\n",
       "..        ...           ...\n",
       "121    2020.I  1.843863e+06\n",
       "122   2020.II  1.708760e+06\n",
       "123  2020.III  1.891735e+06\n",
       "124   2020.IV  2.003500e+06\n",
       "125      2020  7.447858e+06\n",
       "\n",
       "[126 rows x 2 columns]"
      ]
     },
     "execution_count": 4,
     "metadata": {},
     "output_type": "execute_result"
    }
   ],
   "source": [
    "# A planilha com os dados de interesse se chama \"Valores Correntes\" \n",
    "# O período está na coluna A e o PIB na coluna R, com valores a partir da linha 5\n",
    "df = pd.read_excel(pasta_planilha+planilha, skiprows=3, usecols=\"A,R\", sheet_name=\"Valores Correntes\", \n",
    "                   names=('periodo','PIB'), dtype={'periodo':str})\n",
    "df"
   ]
  },
  {
   "cell_type": "code",
   "execution_count": 5,
   "metadata": {
    "scrolled": true
   },
   "outputs": [
    {
     "data": {
      "text/plain": [
       "periodo     object\n",
       "PIB        float64\n",
       "dtype: object"
      ]
     },
     "execution_count": 5,
     "metadata": {},
     "output_type": "execute_result"
    }
   ],
   "source": [
    "df.dtypes"
   ]
  },
  {
   "cell_type": "code",
   "execution_count": 6,
   "metadata": {
    "scrolled": true
   },
   "outputs": [
    {
     "data": {
      "text/html": [
       "<div>\n",
       "<style scoped>\n",
       "    .dataframe tbody tr th:only-of-type {\n",
       "        vertical-align: middle;\n",
       "    }\n",
       "\n",
       "    .dataframe tbody tr th {\n",
       "        vertical-align: top;\n",
       "    }\n",
       "\n",
       "    .dataframe thead th {\n",
       "        text-align: right;\n",
       "    }\n",
       "</style>\n",
       "<table border=\"1\" class=\"dataframe\">\n",
       "  <thead>\n",
       "    <tr style=\"text-align: right;\">\n",
       "      <th></th>\n",
       "      <th>periodo</th>\n",
       "      <th>PIB</th>\n",
       "    </tr>\n",
       "  </thead>\n",
       "  <tbody>\n",
       "    <tr>\n",
       "      <th>0</th>\n",
       "      <td>1996.I</td>\n",
       "      <td>189323.299148</td>\n",
       "    </tr>\n",
       "    <tr>\n",
       "      <th>1</th>\n",
       "      <td>1996.II</td>\n",
       "      <td>204610.728455</td>\n",
       "    </tr>\n",
       "    <tr>\n",
       "      <th>2</th>\n",
       "      <td>1996.III</td>\n",
       "      <td>221513.234375</td>\n",
       "    </tr>\n",
       "    <tr>\n",
       "      <th>3</th>\n",
       "      <td>1996.IV</td>\n",
       "      <td>239316.345834</td>\n",
       "    </tr>\n",
       "    <tr>\n",
       "      <th>4</th>\n",
       "      <td>1997.I</td>\n",
       "      <td>219117.049382</td>\n",
       "    </tr>\n",
       "    <tr>\n",
       "      <th>5</th>\n",
       "      <td>1997.II</td>\n",
       "      <td>232889.544198</td>\n",
       "    </tr>\n",
       "    <tr>\n",
       "      <th>6</th>\n",
       "      <td>1997.III</td>\n",
       "      <td>246178.481097</td>\n",
       "    </tr>\n",
       "    <tr>\n",
       "      <th>7</th>\n",
       "      <td>1997.IV</td>\n",
       "      <td>253904.121411</td>\n",
       "    </tr>\n",
       "  </tbody>\n",
       "</table>\n",
       "</div>"
      ],
      "text/plain": [
       "    periodo            PIB\n",
       "0    1996.I  189323.299148\n",
       "1   1996.II  204610.728455\n",
       "2  1996.III  221513.234375\n",
       "3   1996.IV  239316.345834\n",
       "4    1997.I  219117.049382\n",
       "5   1997.II  232889.544198\n",
       "6  1997.III  246178.481097\n",
       "7   1997.IV  253904.121411"
      ]
     },
     "execution_count": 6,
     "metadata": {},
     "output_type": "execute_result"
    }
   ],
   "source": [
    "# Observa-se que os dados estão disponíveis de forma trimestral em 04 linhas. Uma quinta linha realiza a consolidação anual\n",
    "# Essas linhas de consolidação serão apagadas para não atrapalhar os modelos de previsão\n",
    "\n",
    "# Deixar apenas as linhas que tenham o \".\", exemplo \"1996.I\"\n",
    "df_pib = df[df.periodo.str.contains('\\.')].copy()\n",
    "\n",
    "df_pib.reset_index(drop=True).head(8)"
   ]
  },
  {
   "cell_type": "code",
   "execution_count": 7,
   "metadata": {},
   "outputs": [
    {
     "data": {
      "text/html": [
       "<div>\n",
       "<style scoped>\n",
       "    .dataframe tbody tr th:only-of-type {\n",
       "        vertical-align: middle;\n",
       "    }\n",
       "\n",
       "    .dataframe tbody tr th {\n",
       "        vertical-align: top;\n",
       "    }\n",
       "\n",
       "    .dataframe thead th {\n",
       "        text-align: right;\n",
       "    }\n",
       "</style>\n",
       "<table border=\"1\" class=\"dataframe\">\n",
       "  <thead>\n",
       "    <tr style=\"text-align: right;\">\n",
       "      <th></th>\n",
       "      <th>PIB</th>\n",
       "      <th>data</th>\n",
       "    </tr>\n",
       "  </thead>\n",
       "  <tbody>\n",
       "    <tr>\n",
       "      <th>1</th>\n",
       "      <td>189323.299148</td>\n",
       "      <td>1996-01-01</td>\n",
       "    </tr>\n",
       "    <tr>\n",
       "      <th>2</th>\n",
       "      <td>204610.728455</td>\n",
       "      <td>1996-04-01</td>\n",
       "    </tr>\n",
       "    <tr>\n",
       "      <th>3</th>\n",
       "      <td>221513.234375</td>\n",
       "      <td>1996-07-01</td>\n",
       "    </tr>\n",
       "    <tr>\n",
       "      <th>4</th>\n",
       "      <td>239316.345834</td>\n",
       "      <td>1996-10-01</td>\n",
       "    </tr>\n",
       "    <tr>\n",
       "      <th>6</th>\n",
       "      <td>219117.049382</td>\n",
       "      <td>1997-01-01</td>\n",
       "    </tr>\n",
       "  </tbody>\n",
       "</table>\n",
       "</div>"
      ],
      "text/plain": [
       "             PIB       data\n",
       "1  189323.299148 1996-01-01\n",
       "2  204610.728455 1996-04-01\n",
       "3  221513.234375 1996-07-01\n",
       "4  239316.345834 1996-10-01\n",
       "6  219117.049382 1997-01-01"
      ]
     },
     "execution_count": 7,
     "metadata": {},
     "output_type": "execute_result"
    }
   ],
   "source": [
    "# Função criada para transformar '1996.I' para formato datetime '1996-01-01'\n",
    "def converte_trimestre(periodo):\n",
    "    ano, num_trimestre = periodo.split('.')\n",
    "    d_conversao = {'I': '-01', 'II':'-04', 'III': '-07', 'IV': '-10'}\n",
    "    trimestre = pd.to_datetime(f'{ano}{d_conversao[num_trimestre]}')\n",
    "    return trimestre\n",
    "\n",
    "# Cria a columa data\n",
    "df_pib['data'] = df_pib[['periodo']].applymap(converte_trimestre)\n",
    "\n",
    "# Não é mais necessária a coluna periodo\n",
    "df_pib.drop(columns='periodo', inplace=True)\n",
    "\n",
    "df_pib.head()"
   ]
  },
  {
   "cell_type": "code",
   "execution_count": 8,
   "metadata": {
    "scrolled": true
   },
   "outputs": [
    {
     "data": {
      "text/html": [
       "<div>\n",
       "<style scoped>\n",
       "    .dataframe tbody tr th:only-of-type {\n",
       "        vertical-align: middle;\n",
       "    }\n",
       "\n",
       "    .dataframe tbody tr th {\n",
       "        vertical-align: top;\n",
       "    }\n",
       "\n",
       "    .dataframe thead th {\n",
       "        text-align: right;\n",
       "    }\n",
       "</style>\n",
       "<table border=\"1\" class=\"dataframe\">\n",
       "  <thead>\n",
       "    <tr style=\"text-align: right;\">\n",
       "      <th></th>\n",
       "      <th>data</th>\n",
       "      <th>PIB</th>\n",
       "    </tr>\n",
       "  </thead>\n",
       "  <tbody>\n",
       "    <tr>\n",
       "      <th>0</th>\n",
       "      <td>1996-01-01</td>\n",
       "      <td>63107.766383</td>\n",
       "    </tr>\n",
       "    <tr>\n",
       "      <th>1</th>\n",
       "      <td>1996-02-01</td>\n",
       "      <td>63107.766383</td>\n",
       "    </tr>\n",
       "    <tr>\n",
       "      <th>2</th>\n",
       "      <td>1996-03-01</td>\n",
       "      <td>63107.766383</td>\n",
       "    </tr>\n",
       "    <tr>\n",
       "      <th>3</th>\n",
       "      <td>1996-04-01</td>\n",
       "      <td>68203.576152</td>\n",
       "    </tr>\n",
       "    <tr>\n",
       "      <th>4</th>\n",
       "      <td>1996-05-01</td>\n",
       "      <td>68203.576152</td>\n",
       "    </tr>\n",
       "  </tbody>\n",
       "</table>\n",
       "</div>"
      ],
      "text/plain": [
       "        data           PIB\n",
       "0 1996-01-01  63107.766383\n",
       "1 1996-02-01  63107.766383\n",
       "2 1996-03-01  63107.766383\n",
       "3 1996-04-01  68203.576152\n",
       "4 1996-05-01  68203.576152"
      ]
     },
     "execution_count": 8,
     "metadata": {},
     "output_type": "execute_result"
    }
   ],
   "source": [
    "# Cria nova dataframe para armazenar o PIB de forma mensal\n",
    "df_pib_mensal = pd.DataFrame(columns=('data', 'PIB'))\n",
    "\n",
    "# Alternativa adotada, transformar os valores em média\n",
    "for i in range(0, len(df_pib)):\n",
    "    pib_medio = df_pib.iloc[i]['PIB'] / 3\n",
    "    mes = df_pib.iloc[i]['data']\n",
    "    for j in range(0, 3):\n",
    "        df_pib_mensal = df_pib_mensal.append({\"PIB\": pib_medio, \"data\": mes + pd.DateOffset(months=j)}, ignore_index=True)\n",
    "\n",
    "df_pib_mensal.head()"
   ]
  },
  {
   "cell_type": "code",
   "execution_count": 9,
   "metadata": {
    "scrolled": true
   },
   "outputs": [],
   "source": [
    "# Transforma a coluna trimestre em índice\n",
    "df_pib_mensal.set_index('data', inplace=True)\n",
    "\n",
    "# Como a arrecadação foi recuperada no período de 2004 a 2019, o PIB deve estar disponível no mesmo período\n",
    "df_pib_mensal = df_pib_mensal.loc['2004-01-01':'2019-12-01']"
   ]
  },
  {
   "cell_type": "code",
   "execution_count": 10,
   "metadata": {},
   "outputs": [
    {
     "data": {
      "text/html": [
       "<div>\n",
       "<style scoped>\n",
       "    .dataframe tbody tr th:only-of-type {\n",
       "        vertical-align: middle;\n",
       "    }\n",
       "\n",
       "    .dataframe tbody tr th {\n",
       "        vertical-align: top;\n",
       "    }\n",
       "\n",
       "    .dataframe thead th {\n",
       "        text-align: right;\n",
       "    }\n",
       "</style>\n",
       "<table border=\"1\" class=\"dataframe\">\n",
       "  <thead>\n",
       "    <tr style=\"text-align: right;\">\n",
       "      <th></th>\n",
       "      <th>PIB</th>\n",
       "    </tr>\n",
       "    <tr>\n",
       "      <th>data</th>\n",
       "      <th></th>\n",
       "    </tr>\n",
       "  </thead>\n",
       "  <tbody>\n",
       "    <tr>\n",
       "      <th>2004-01-01</th>\n",
       "      <td>148261.162720</td>\n",
       "    </tr>\n",
       "    <tr>\n",
       "      <th>2004-02-01</th>\n",
       "      <td>148261.162720</td>\n",
       "    </tr>\n",
       "    <tr>\n",
       "      <th>2004-03-01</th>\n",
       "      <td>148261.162720</td>\n",
       "    </tr>\n",
       "    <tr>\n",
       "      <th>2004-04-01</th>\n",
       "      <td>160598.320168</td>\n",
       "    </tr>\n",
       "    <tr>\n",
       "      <th>2004-05-01</th>\n",
       "      <td>160598.320168</td>\n",
       "    </tr>\n",
       "    <tr>\n",
       "      <th>...</th>\n",
       "      <td>...</td>\n",
       "    </tr>\n",
       "    <tr>\n",
       "      <th>2019-08-01</th>\n",
       "      <td>628000.945482</td>\n",
       "    </tr>\n",
       "    <tr>\n",
       "      <th>2019-09-01</th>\n",
       "      <td>628000.945482</td>\n",
       "    </tr>\n",
       "    <tr>\n",
       "      <th>2019-10-01</th>\n",
       "      <td>641007.011815</td>\n",
       "    </tr>\n",
       "    <tr>\n",
       "      <th>2019-11-01</th>\n",
       "      <td>641007.011815</td>\n",
       "    </tr>\n",
       "    <tr>\n",
       "      <th>2019-12-01</th>\n",
       "      <td>641007.011815</td>\n",
       "    </tr>\n",
       "  </tbody>\n",
       "</table>\n",
       "<p>192 rows × 1 columns</p>\n",
       "</div>"
      ],
      "text/plain": [
       "                      PIB\n",
       "data                     \n",
       "2004-01-01  148261.162720\n",
       "2004-02-01  148261.162720\n",
       "2004-03-01  148261.162720\n",
       "2004-04-01  160598.320168\n",
       "2004-05-01  160598.320168\n",
       "...                   ...\n",
       "2019-08-01  628000.945482\n",
       "2019-09-01  628000.945482\n",
       "2019-10-01  641007.011815\n",
       "2019-11-01  641007.011815\n",
       "2019-12-01  641007.011815\n",
       "\n",
       "[192 rows x 1 columns]"
      ]
     },
     "execution_count": 10,
     "metadata": {},
     "output_type": "execute_result"
    }
   ],
   "source": [
    "df_pib_mensal"
   ]
  },
  {
   "cell_type": "code",
   "execution_count": 11,
   "metadata": {},
   "outputs": [
    {
     "name": "stdout",
     "output_type": "stream",
     "text": [
      "<class 'pandas.core.frame.DataFrame'>\n",
      "DatetimeIndex: 192 entries, 2004-01-01 to 2019-12-01\n",
      "Data columns (total 1 columns):\n",
      " #   Column  Non-Null Count  Dtype  \n",
      "---  ------  --------------  -----  \n",
      " 0   PIB     192 non-null    float64\n",
      "dtypes: float64(1)\n",
      "memory usage: 3.0 KB\n"
     ]
    }
   ],
   "source": [
    "df_pib_mensal.info()"
   ]
  },
  {
   "cell_type": "code",
   "execution_count": 12,
   "metadata": {},
   "outputs": [
    {
     "data": {
      "image/png": "[encoded data removed]",
      "text/plain": [
       "<Figure size 1008x432 with 1 Axes>"
      ]
     },
     "metadata": {
      "needs_background": "light"
     },
     "output_type": "display_data"
    }
   ],
   "source": [
    "# Visualiza os dados do PIB ao longo do tempo\n",
    "fig, ax = plt.subplots(figsize=(14, 6))\n",
    "plt.rcParams['font.size'] = '10'\n",
    "plt.title('PIB Brasil - média mensal de 2004 a 2019', fontdict={'size':20})\n",
    "plt.ylabel('PIB em milhões R$')\n",
    "plt.xlabel('Data')\n",
    "plt.plot(df_pib_mensal)\n",
    "ax.ticklabel_format(style='plain',  axis='y')\n",
    "plt.show();\n"
   ]
  },
  {
   "cell_type": "code",
   "execution_count": 13,
   "metadata": {},
   "outputs": [],
   "source": [
    "# Exporta em padrão CSV e Excel\n",
    "df_pib_mensal.to_excel(pasta_planilha+'pib.xlsx', index=True)\n",
    "df_pib_mensal.to_csv(pasta_datasets+'pib.csv', index=True)"
   ]
  }
 ],
 "metadata": {
  "kernelspec": {
   "display_name": "Python 3",
   "language": "python",
   "name": "python3"
  },
  "language_info": {
   "codemirror_mode": {
    "name": "ipython",
    "version": 3
   },
   "file_extension": ".py",
   "mimetype": "text/x-python",
   "name": "python",
   "nbconvert_exporter": "python",
   "pygments_lexer": "ipython3",
   "version": "3.7.3"
  }
 },
 "nbformat": 4,
 "nbformat_minor": 2
}
