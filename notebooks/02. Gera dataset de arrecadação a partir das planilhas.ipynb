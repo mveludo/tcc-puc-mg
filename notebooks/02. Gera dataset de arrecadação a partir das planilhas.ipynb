{
 "cells": [
  {
   "cell_type": "code",
   "execution_count": 1,
   "metadata": {},
   "outputs": [],
   "source": [
    "import pandas as pd\n",
    "import os, re"
   ]
  },
  {
   "cell_type": "code",
   "execution_count": 2,
   "metadata": {},
   "outputs": [
    {
     "name": "stdout",
     "output_type": "stream",
     "text": [
      "\"Pasta ../datasets/ já existe\n"
     ]
    }
   ],
   "source": [
    "pasta_datasets='../datasets/'\n",
    "pasta_planilha='../planilhas/'\n",
    "\n",
    "try:\n",
    "    os.mkdir(pasta_datasets)\n",
    "    print(f'\"Pasta {pasta_datasets} criada') \n",
    "except FileExistsError:\n",
    "    print(f'\"Pasta {pasta_datasets} já existe') "
   ]
  },
  {
   "cell_type": "code",
   "execution_count": 3,
   "metadata": {},
   "outputs": [],
   "source": [
    "# Instala pacote necessário para que o Pandas consiga ler os arquivos ODF - Open Document Format for Office Applications\n",
    "# A partir de março/2011 as planilhas estão nesse formato no site da Receita Federal\n",
    "\n",
    "# Basta retirar o comentário e executar uma única vez\n",
    "#!pip install odfpy"
   ]
  },
  {
   "cell_type": "code",
   "execution_count": 4,
   "metadata": {},
   "outputs": [],
   "source": [
    "# Função utilizada na leitura das planilhas para retirar espaços extras antes e depois da string de interesse\n",
    "def limpa_espacos(texto):\n",
    "    return texto.strip()"
   ]
  },
  {
   "cell_type": "code",
   "execution_count": 5,
   "metadata": {
    "scrolled": false
   },
   "outputs": [
    {
     "name": "stdout",
     "output_type": "stream",
     "text": [
      "192 dataframes no dicionário d_df\n",
      "\n"
     ]
    }
   ],
   "source": [
    "# cria uma lista com todos os arquivos contidos na pasta_planilha\n",
    "planilhas = os.listdir(pasta_planilha)\n",
    "\n",
    "#Cria um dicionário para receber um dataframe por mês\n",
    "d_df={}\n",
    "\n",
    "# A partir de maio 2007 as contribuições previdenciárias passaram a ser administradas pela RFB (fusão SRF+SRP)\n",
    "# A partir de agosto de 2010 a CPPSS passou a ser administrada pela RFB(art. 23, MP nº 497/10).\n",
    "\n",
    "# Dicionário com a identificação das linhas que contém o total da receita fazendária administrada RFB\n",
    "d_rotulos = {'RECEITA ADMINISTRADA PELA RFB': 'RECEITA FAZENDARIA TOTAL',\n",
    "             'RECEITAS ADMINISTRADAS PELA RFB': 'RECEITA FAZENDARIA TOTAL',\n",
    "             'RECEITA ADMINISTRADA PELA SRF': 'RECEITA FAZENDARIA TOTAL',\n",
    "             'RECEITA ADMINISTRADA': 'RECEITA FAZENDARIA TOTAL',\n",
    "             'SUBTOTAL [A]': 'RECEITA FAZENDARIA TOTAL'}\n",
    "\n",
    "for planilha in planilhas:\n",
    "    # Verifica apenas arquivos com nome válido e padronizado\n",
    "    if (re.match('\\d{4}-\\d{2}-arrecadacao-uf.(xls|ods)',planilha)):\n",
    "        ano, mes = planilha.split('-',2)[0:2]\n",
    "                  \n",
    "        # Nas planilhas os dados de interesse se encontram a partir da linha 11 e nas colunas A até AC\n",
    "        df = pd.read_excel(pasta_planilha+planilha, header=11, usecols=\"A:AC\", converters={0:limpa_espacos})\n",
    "\n",
    "        # Realiza preparação dos dados\n",
    "        \n",
    "        # Padroniza as diversas denominações atribuídas às colunas com o nome dos tributos\n",
    "        df.rename(columns={'RECEITA ':'tributo', 'RECEITAS':'tributo',\n",
    "                           'RECEITAS ':'tributo'}, inplace=True)\n",
    "        \n",
    "        # Padroniza o nome da linha que contém a métrica de interesse como 'RECEITA FAZENDARIA TOTAL'\n",
    "        df['tributo'].replace(d_rotulos, inplace=True)\n",
    "\n",
    "        # Realiza a transposição do dataframe para tornar os estados nas linhas e a arrecadação dos tributos nas colunas\n",
    "        df_t = df.transpose().reset_index()\n",
    "        \n",
    "        # Utiliza a primeira linha de dados para rótulo das colunas\n",
    "        df_t.columns = df_t.iloc[0]\n",
    "        df_t.drop([0,28], inplace=True)\n",
    "        df_t.rename(columns={'tributo':'estado'}, inplace=True)\n",
    "        \n",
    "        # Cria uma coluna com o data (mês) de referência\n",
    "        df_t['data'] = pd.to_datetime(ano + '-' + mes)\n",
    "        \n",
    "        #Agrega as colunas de interesse do dataframe no dicionário com a chave AAAAMM\n",
    "        d_df[ano+mes] = df_t[['data', 'estado', 'RECEITA FAZENDARIA TOTAL']]\n",
    "\n",
    "print(f'{len(d_df)} dataframes no dicionário d_df\\n')"
   ]
  },
  {
   "cell_type": "code",
   "execution_count": 6,
   "metadata": {
    "scrolled": true
   },
   "outputs": [
    {
     "data": {
      "text/html": [
       "<div>\n",
       "<style scoped>\n",
       "    .dataframe tbody tr th:only-of-type {\n",
       "        vertical-align: middle;\n",
       "    }\n",
       "\n",
       "    .dataframe tbody tr th {\n",
       "        vertical-align: top;\n",
       "    }\n",
       "\n",
       "    .dataframe thead th {\n",
       "        text-align: right;\n",
       "    }\n",
       "</style>\n",
       "<table border=\"1\" class=\"dataframe\">\n",
       "  <thead>\n",
       "    <tr style=\"text-align: right;\">\n",
       "      <th></th>\n",
       "      <th>estado</th>\n",
       "      <th>RECEITA FAZENDARIA TOTAL</th>\n",
       "    </tr>\n",
       "    <tr>\n",
       "      <th>data</th>\n",
       "      <th></th>\n",
       "      <th></th>\n",
       "    </tr>\n",
       "  </thead>\n",
       "  <tbody>\n",
       "    <tr>\n",
       "      <th>2004-01-01</th>\n",
       "      <td>AC</td>\n",
       "      <td>8540138</td>\n",
       "    </tr>\n",
       "    <tr>\n",
       "      <th>2004-01-01</th>\n",
       "      <td>AL</td>\n",
       "      <td>46646041</td>\n",
       "    </tr>\n",
       "    <tr>\n",
       "      <th>2004-01-01</th>\n",
       "      <td>AP</td>\n",
       "      <td>10379954</td>\n",
       "    </tr>\n",
       "    <tr>\n",
       "      <th>2004-01-01</th>\n",
       "      <td>AM</td>\n",
       "      <td>236111268</td>\n",
       "    </tr>\n",
       "    <tr>\n",
       "      <th>2004-01-01</th>\n",
       "      <td>BA</td>\n",
       "      <td>407403246</td>\n",
       "    </tr>\n",
       "    <tr>\n",
       "      <th>...</th>\n",
       "      <td>...</td>\n",
       "      <td>...</td>\n",
       "    </tr>\n",
       "    <tr>\n",
       "      <th>2019-12-01</th>\n",
       "      <td>RS</td>\n",
       "      <td>3608629696.4</td>\n",
       "    </tr>\n",
       "    <tr>\n",
       "      <th>2019-12-01</th>\n",
       "      <td>SC</td>\n",
       "      <td>3580415239.41</td>\n",
       "    </tr>\n",
       "    <tr>\n",
       "      <th>2019-12-01</th>\n",
       "      <td>SE</td>\n",
       "      <td>174023110.28</td>\n",
       "    </tr>\n",
       "    <tr>\n",
       "      <th>2019-12-01</th>\n",
       "      <td>SP</td>\n",
       "      <td>38881414448.459999</td>\n",
       "    </tr>\n",
       "    <tr>\n",
       "      <th>2019-12-01</th>\n",
       "      <td>TO</td>\n",
       "      <td>105356384.51</td>\n",
       "    </tr>\n",
       "  </tbody>\n",
       "</table>\n",
       "<p>5184 rows × 2 columns</p>\n",
       "</div>"
      ],
      "text/plain": [
       "0          estado RECEITA FAZENDARIA TOTAL\n",
       "data                                      \n",
       "2004-01-01     AC                  8540138\n",
       "2004-01-01     AL                 46646041\n",
       "2004-01-01     AP                 10379954\n",
       "2004-01-01     AM                236111268\n",
       "2004-01-01     BA                407403246\n",
       "...           ...                      ...\n",
       "2019-12-01     RS             3608629696.4\n",
       "2019-12-01     SC            3580415239.41\n",
       "2019-12-01     SE             174023110.28\n",
       "2019-12-01     SP       38881414448.459999\n",
       "2019-12-01     TO             105356384.51\n",
       "\n",
       "[5184 rows x 2 columns]"
      ]
     },
     "metadata": {},
     "output_type": "display_data"
    }
   ],
   "source": [
    "#Concatena os dataframes de cada mes/ano num único dataframe\n",
    "df_arrec = pd.concat(d_df, ignore_index=True, sort=False)\n",
    "\n",
    "# cria um novo índice após concatenar os dataframes\n",
    "df_arrec.set_index(['data'], inplace=True)\n",
    "\n",
    "display(df_arrec)"
   ]
  },
  {
   "cell_type": "code",
   "execution_count": 7,
   "metadata": {},
   "outputs": [
    {
     "name": "stdout",
     "output_type": "stream",
     "text": [
      "<class 'pandas.core.frame.DataFrame'>\n",
      "DatetimeIndex: 5184 entries, 2004-01-01 to 2019-12-01\n",
      "Data columns (total 2 columns):\n",
      " #   Column       Non-Null Count  Dtype \n",
      "---  ------       --------------  ----- \n",
      " 0   estado       5184 non-null   object\n",
      " 1   arrecadacao  5184 non-null   object\n",
      "dtypes: object(2)\n",
      "memory usage: 121.5+ KB\n"
     ]
    }
   ],
   "source": [
    "# Simplifica o nome da coluna 'RECEITA FAZENDARIA TOTAL' para 'arrecadacao'\n",
    "df_arrec.columns=['estado', 'arrecadacao']\n",
    "\n",
    "# Deixa a escala da arrecadação em R$ 1 milhão\n",
    "df_arrec['arrecadacao'] = df_arrec['arrecadacao']/1e6\n",
    "\n",
    "df_arrec.info()"
   ]
  },
  {
   "cell_type": "code",
   "execution_count": 8,
   "metadata": {},
   "outputs": [
    {
     "data": {
      "text/plain": [
       "array(['AC', 'AL', 'AP', 'AM', 'BA', 'CE', 'DF', 'ES', 'GO', 'MA', 'MT',\n",
       "       'MS', 'MG', 'PA', 'PB', 'PR', 'PE', 'PI', 'RJ', 'RN', 'RS', 'RO',\n",
       "       'RR', 'SC', 'SP', 'SE', 'TO'], dtype=object)"
      ]
     },
     "execution_count": 8,
     "metadata": {},
     "output_type": "execute_result"
    }
   ],
   "source": [
    "df_arrec['estado'].unique()"
   ]
  },
  {
   "cell_type": "code",
   "execution_count": 9,
   "metadata": {},
   "outputs": [],
   "source": [
    "# Exporta em padrão CSV e Excel\n",
    "df_arrec.to_excel(pasta_planilha+'arrecadacao_uf.xlsx', index=True)\n",
    "df_arrec.to_csv(pasta_datasets+'arrecadacao_uf.csv', index=True)"
   ]
  }
 ],
 "metadata": {
  "kernelspec": {
   "display_name": "Python 3",
   "language": "python",
   "name": "python3"
  },
  "language_info": {
   "codemirror_mode": {
    "name": "ipython",
    "version": 3
   },
   "file_extension": ".py",
   "mimetype": "text/x-python",
   "name": "python",
   "nbconvert_exporter": "python",
   "pygments_lexer": "ipython3",
   "version": "3.7.3"
  }
 },
 "nbformat": 4,
 "nbformat_minor": 2
}
